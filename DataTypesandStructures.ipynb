{
  "nbformat": 4,
  "nbformat_minor": 0,
  "metadata": {
    "colab": {
      "provenance": []
    },
    "kernelspec": {
      "name": "python3",
      "display_name": "Python 3"
    },
    "language_info": {
      "name": "python"
    }
  },
  "cells": [
    {
      "cell_type": "markdown",
      "source": [
        "1. What are data structures and why are they important?\n",
        "  > Data structures is a way of storing data in a memory block through which we can access manipulate and retrive data. It is important because it enhances performance accesiblity and helps in making algorithms.\n",
        "\n",
        "2. Explain the difference between mutable and immutable data types with examples.\n",
        "  >Mutable data types are which can be changed through simple operations during programming like lists while immatable are those which san't be changed ones it is formed like tuples and strings.\n",
        "\n",
        "3. What are the main differences between lists and tuples in Python?\n",
        "  >Lists are mutable and tuples are immutable. Elements of tuple have fixed hash value hence cannot be changed.\n",
        "\n",
        "4. Describe how dictionaries store data?\n",
        "  > Dictionaries store data in key value pairs so that we can access value through keys in dictionaries.\n",
        "\n",
        "5. Why might you use a set instead of a list in Python?\n",
        "  > set has a preference where we want to store unique data in unordered collection and to get random data from the storage at a time.\n",
        "\n",
        "6. What is a string in Python, and how is it different from a list?\n",
        "  >string is sequence of charcter stored in a quotations while list is a collection of different data types stored in square brackets.\n",
        "\n",
        "7. How do tuples ensure data integrity in Python?\n",
        "  >tuples can't be changed with external efforts  and the elemnts of tuples have a fixed hash values so there memory block also can't be changed thus ensuring data integrity.\n",
        "\n",
        "8. What is a hash table, and how does it relate to dictionaries in Python?\n",
        "  >Dictionaries are implemented using hash tables. When you add a key-value pair to a dictionary, Python calculates the hash value of the key, uses it to determine the index in the underlying hash table, and stores the value at that index. When you retrieve a value using its key, Python again calculates the hash value of the key and uses it to quickly locate the value in the hash table.  \n",
        "\n",
        "9. Can lists contain different data types in Python?\n",
        "  > yes list can have various data types stored in it like string ,integer, float or boolean.\n",
        "\n",
        "10. Explain why strings are immutable in Python?\n",
        "  >The immutable term generally refers to their property of being immune to change or modification after their creation, the same case with the string data type in Python.\n",
        "\n",
        "11. What advantages do dictionaries offer over lists for certain tasks?\n",
        "  > Dictionaries offer values of certain key in its format which enables us to access only those values using thes keys.\n",
        "\n",
        "12. Describe a scenario where using a tuple would be preferable over a list?\n",
        "  >A tuple is preferable over a list in Python when immutability is required—meaning the data should not change throughout the program's execution. Here’s a scenario where a tuple would be the better choice like i want to store coordinates of  a place.\n",
        "\n",
        "13. How do sets handle duplicate values in Python?\n",
        "  > Sets eliminate duplicate elements and nad store  the elements in a unordered collection. Sets store unique elements only and have only one occurence of its values.\n",
        "\n",
        "14. How does the “in” keyword work differently for lists and dictionaries?\n",
        "  > In lists \"in\" checks where the element is in whole list or not while in dictionaries checks the elments in keys of the dictionary.\n",
        "15. Can you modify the elements of a tuple? Explain why or why not?\\\n",
        "  >No, you cannot modify the elements of a tuple because tuples are immutable in Python. Once a tuple is created, its elements cannot be changed, added, or removed.\n",
        "\n",
        "16. What is a nested dictionary, and give an example of its use case?\n",
        "  >A nested dictionary is a dictionary that contains another dictionary as a value. It allows you to store and organize hierarchical or structured data in a key-value format. it can be used for storing student data and the grades also nested in it.\n",
        "\n",
        "17. Describe the time complexity of accessing elements in a dictionary?\n",
        "  >dictionaries are implemented as hash tables, which allow for efficient key-based lookups.\n",
        "\n",
        "18. In what situations are lists preferred over dictionaries?\n",
        "  >Lists maintain order, while dictionaries use key-value pairs. Lists are optimized for looping, unlike dictionaries.\n",
        "  \n",
        "19. Why are dictionaries considered unordered, and how does that affect data retrieval?\n",
        "  >Python were unordered because they used a hash table for storing key-value pairs but in newer version it maintains the order in which in it is inserted\n",
        "\n",
        "20. Explain the difference between a list and a dictionary in terms of data retrieval.\n",
        "  >A list retrieves data by index, supporting slicing and sorting, but searching takes time. A dictionary retrieves data by key, providing lookups via hashing. Lists maintain sequential order, while dictionaries store key-value pairs with fast access but no indexed retrieval.\n"
      ],
      "metadata": {
        "id": "Uv5Xw9par1BH"
      }
    },
    {
      "cell_type": "code",
      "source": [
        "#Write a code to create a string with your name and print it?\n",
        "a=\"aniket\"\n",
        "print(a)"
      ],
      "metadata": {
        "colab": {
          "base_uri": "https://localhost:8080/"
        },
        "id": "zXxFJZvG6gMO",
        "outputId": "8a153c40-076a-47a3-aa44-d8271208724e"
      },
      "execution_count": null,
      "outputs": [
        {
          "output_type": "stream",
          "name": "stdout",
          "text": [
            "aniket\n"
          ]
        }
      ]
    },
    {
      "cell_type": "code",
      "source": [
        "#Write a code to find the length of the string \"Hello World\"?\n",
        "a=\"Hello World\"\n",
        "print(len(a))"
      ],
      "metadata": {
        "colab": {
          "base_uri": "https://localhost:8080/"
        },
        "id": "G5_wJJcb6yqR",
        "outputId": "71373d7e-743e-46c3-82bb-96aa7172794f"
      },
      "execution_count": null,
      "outputs": [
        {
          "output_type": "stream",
          "name": "stdout",
          "text": [
            "11\n"
          ]
        }
      ]
    },
    {
      "cell_type": "code",
      "source": [
        "#Write a code to slice the first 3 characters from the string \"Python Programming\"\n",
        "a=\"Python Programming\"\n",
        "a[0:3]"
      ],
      "metadata": {
        "colab": {
          "base_uri": "https://localhost:8080/",
          "height": 36
        },
        "id": "jC_5CseE7HJt",
        "outputId": "62c31b6a-d7c4-458f-d4c2-1544a4deee46"
      },
      "execution_count": null,
      "outputs": [
        {
          "output_type": "execute_result",
          "data": {
            "text/plain": [
              "'Pyt'"
            ],
            "application/vnd.google.colaboratory.intrinsic+json": {
              "type": "string"
            }
          },
          "metadata": {},
          "execution_count": 3
        }
      ]
    },
    {
      "cell_type": "code",
      "source": [
        "#Write a code to convert the string \"hello\" to uppercase?\n",
        "a=\"hello\"\n",
        "a.upper()"
      ],
      "metadata": {
        "colab": {
          "base_uri": "https://localhost:8080/",
          "height": 36
        },
        "id": "9MzAZYm-7f5o",
        "outputId": "85300cb7-c7bf-4ce7-9ac5-e3466dd7c6f5"
      },
      "execution_count": null,
      "outputs": [
        {
          "output_type": "execute_result",
          "data": {
            "text/plain": [
              "'HELLO'"
            ],
            "application/vnd.google.colaboratory.intrinsic+json": {
              "type": "string"
            }
          },
          "metadata": {},
          "execution_count": 4
        }
      ]
    },
    {
      "cell_type": "code",
      "source": [
        "#Write a code to replace the word \"apple\" with \"orange\" in the string \"I like apple\"?\n",
        "a=\"I like apple\"\n",
        "a.replace(\"apple\",\"orange\")"
      ],
      "metadata": {
        "colab": {
          "base_uri": "https://localhost:8080/",
          "height": 36
        },
        "id": "XHRQ94q77sru",
        "outputId": "eeba4047-81e6-4536-b34d-0b3ae4270a4e"
      },
      "execution_count": null,
      "outputs": [
        {
          "output_type": "execute_result",
          "data": {
            "text/plain": [
              "'I like orange'"
            ],
            "application/vnd.google.colaboratory.intrinsic+json": {
              "type": "string"
            }
          },
          "metadata": {},
          "execution_count": 5
        }
      ]
    },
    {
      "cell_type": "code",
      "source": [
        "#Write a code to create a list with numbers 1 to 5 and print it?\n",
        "a=[1,2,3,4,5]\n",
        "for i in a:\n",
        "  print(i)"
      ],
      "metadata": {
        "colab": {
          "base_uri": "https://localhost:8080/"
        },
        "id": "wd4rBg-v8Bvk",
        "outputId": "4f777fba-ced3-4616-b07f-aa3403592102"
      },
      "execution_count": null,
      "outputs": [
        {
          "output_type": "stream",
          "name": "stdout",
          "text": [
            "1\n",
            "2\n",
            "3\n",
            "4\n",
            "5\n"
          ]
        }
      ]
    },
    {
      "cell_type": "code",
      "source": [
        "#Write a code to append the number 10 to the list [1, 2, 3, 4]?\n",
        "a=[1, 2, 3, 4]\n",
        "a.append(10)\n",
        "a"
      ],
      "metadata": {
        "colab": {
          "base_uri": "https://localhost:8080/"
        },
        "id": "uspl45O88Szd",
        "outputId": "50088eb6-4654-492c-ce1c-cafd91c66c66"
      },
      "execution_count": null,
      "outputs": [
        {
          "output_type": "execute_result",
          "data": {
            "text/plain": [
              "[1, 2, 3, 4, 10]"
            ]
          },
          "metadata": {},
          "execution_count": 8
        }
      ]
    },
    {
      "cell_type": "code",
      "source": [
        "#Write a code to remove the number 3 from the list [1, 2, 3, 4, 5]?\n",
        "a=[1,2,3,4,5]\n",
        "a.remove(3)\n",
        "a"
      ],
      "metadata": {
        "colab": {
          "base_uri": "https://localhost:8080/"
        },
        "id": "6LpQFefz8kdF",
        "outputId": "a2985eb3-d257-4c26-9b46-da7d3b22b43f"
      },
      "execution_count": null,
      "outputs": [
        {
          "output_type": "execute_result",
          "data": {
            "text/plain": [
              "[1, 2, 4, 5]"
            ]
          },
          "metadata": {},
          "execution_count": 9
        }
      ]
    },
    {
      "cell_type": "code",
      "source": [
        "#Write a code to access the second element in the list ['a', 'b', 'c', 'd']?\n",
        "a=['a', 'b', 'c', 'd']\n",
        "a[1]"
      ],
      "metadata": {
        "colab": {
          "base_uri": "https://localhost:8080/",
          "height": 36
        },
        "id": "zLv6ee7M8z7i",
        "outputId": "4a1db39a-cc9c-4038-fc9e-665cf77d1639"
      },
      "execution_count": null,
      "outputs": [
        {
          "output_type": "execute_result",
          "data": {
            "text/plain": [
              "'b'"
            ],
            "application/vnd.google.colaboratory.intrinsic+json": {
              "type": "string"
            }
          },
          "metadata": {},
          "execution_count": 10
        }
      ]
    },
    {
      "cell_type": "code",
      "source": [
        "#Write a code to reverse the list [10, 20, 30, 40, 50].\n",
        "a=[10,20,30,40,50]\n",
        "a.reverse()\n",
        "a"
      ],
      "metadata": {
        "colab": {
          "base_uri": "https://localhost:8080/"
        },
        "id": "AFoFwg0b9Er_",
        "outputId": "bf00dace-47de-4c30-e397-786425e5fac8"
      },
      "execution_count": null,
      "outputs": [
        {
          "output_type": "execute_result",
          "data": {
            "text/plain": [
              "[50, 40, 30, 20, 10]"
            ]
          },
          "metadata": {},
          "execution_count": 16
        }
      ]
    },
    {
      "cell_type": "code",
      "source": [
        "from re import T\n",
        "#Write a code to create a tuple with the elements 100, 200, 300 and print it.\n",
        "t=(100,200,300)\n",
        "print(t)"
      ],
      "metadata": {
        "colab": {
          "base_uri": "https://localhost:8080/"
        },
        "id": "6MuzYu3h9pyo",
        "outputId": "e69ad9bb-09e8-4b01-a10f-f2dd30897210"
      },
      "execution_count": null,
      "outputs": [
        {
          "output_type": "stream",
          "name": "stdout",
          "text": [
            "(100, 200, 300)\n"
          ]
        }
      ]
    },
    {
      "cell_type": "code",
      "source": [
        "#Write a code to access the second-to-last element of the tuple ('red', 'green', 'blue', 'yellow').\n",
        "t=('red', 'green', 'blue', 'yellow')\n",
        "t[-2]"
      ],
      "metadata": {
        "colab": {
          "base_uri": "https://localhost:8080/",
          "height": 36
        },
        "id": "8-VUvA0y_KAq",
        "outputId": "0e0683aa-3e6c-424a-d184-9fdd7c46e89c"
      },
      "execution_count": null,
      "outputs": [
        {
          "output_type": "execute_result",
          "data": {
            "text/plain": [
              "'blue'"
            ],
            "application/vnd.google.colaboratory.intrinsic+json": {
              "type": "string"
            }
          },
          "metadata": {},
          "execution_count": 18
        }
      ]
    },
    {
      "cell_type": "code",
      "source": [
        "#Write a code to find the minimum number in the tuple (10, 20, 5, 15).\n",
        "t=(10, 20, 5, 15)\n",
        "min(t)"
      ],
      "metadata": {
        "colab": {
          "base_uri": "https://localhost:8080/"
        },
        "id": "6b4jcMi8_ePH",
        "outputId": "bf1f203d-04dc-4191-b039-89c24f59e045"
      },
      "execution_count": null,
      "outputs": [
        {
          "output_type": "execute_result",
          "data": {
            "text/plain": [
              "5"
            ]
          },
          "metadata": {},
          "execution_count": 20
        }
      ]
    },
    {
      "cell_type": "code",
      "source": [
        "#Write a code to find the index of the element \"cat\" in the tuple ('dog', 'cat', 'rabbit').\n",
        "t=('dog', 'cat', 'rabbit')\n",
        "t.index('cat')"
      ],
      "metadata": {
        "colab": {
          "base_uri": "https://localhost:8080/"
        },
        "id": "79HoWccA_0EO",
        "outputId": "8a59175b-ec22-4142-9abc-75f57ce2f0ff"
      },
      "execution_count": null,
      "outputs": [
        {
          "output_type": "execute_result",
          "data": {
            "text/plain": [
              "1"
            ]
          },
          "metadata": {},
          "execution_count": 21
        }
      ]
    },
    {
      "cell_type": "code",
      "source": [
        "# Write a code to create a tuple containing three different fruits and check if \"kiwi\" is in it.\n",
        "t=('apple','orange','banana')\n",
        "'kiwi' in t"
      ],
      "metadata": {
        "colab": {
          "base_uri": "https://localhost:8080/"
        },
        "id": "3B32DVyuASlU",
        "outputId": "10d5aeb8-007d-4087-e58a-b342c35195e8"
      },
      "execution_count": null,
      "outputs": [
        {
          "output_type": "execute_result",
          "data": {
            "text/plain": [
              "False"
            ]
          },
          "metadata": {},
          "execution_count": 22
        }
      ]
    },
    {
      "cell_type": "code",
      "source": [
        "#Write a code to create a set with the elements 'a', 'b', 'c' and print it.\n",
        "s={'a','b','c'}\n",
        "s"
      ],
      "metadata": {
        "colab": {
          "base_uri": "https://localhost:8080/"
        },
        "id": "DSLtgv_UArZz",
        "outputId": "efdfdbad-9357-46d6-aa45-543bdee1488c"
      },
      "execution_count": null,
      "outputs": [
        {
          "output_type": "execute_result",
          "data": {
            "text/plain": [
              "{'a', 'b', 'c'}"
            ]
          },
          "metadata": {},
          "execution_count": 24
        }
      ]
    },
    {
      "cell_type": "code",
      "source": [
        "# Write a code to clear all elements from the set {1, 2, 3, 4, 5}..\n",
        "s={1, 2, 3, 4, 5}\n",
        "s.clear()\n",
        "print(s)"
      ],
      "metadata": {
        "colab": {
          "base_uri": "https://localhost:8080/"
        },
        "id": "KbYELsypA89s",
        "outputId": "93d19bd6-acf5-4f5b-bd5e-1e62e4301a5e"
      },
      "execution_count": null,
      "outputs": [
        {
          "output_type": "stream",
          "name": "stdout",
          "text": [
            "set()\n"
          ]
        }
      ]
    },
    {
      "cell_type": "code",
      "source": [
        "# Write a code to remove the element 4 from the set {1, 2, 3, 4}.\n",
        "\n",
        "s={1, 2, 3, 4}\n",
        "s.remove(4)\n",
        "s"
      ],
      "metadata": {
        "colab": {
          "base_uri": "https://localhost:8080/"
        },
        "id": "wP4RYsmMBOby",
        "outputId": "3826173c-b3d0-4bd6-971d-2832496d7fef"
      },
      "execution_count": null,
      "outputs": [
        {
          "output_type": "execute_result",
          "data": {
            "text/plain": [
              "{1, 2, 3}"
            ]
          },
          "metadata": {},
          "execution_count": 27
        }
      ]
    },
    {
      "cell_type": "code",
      "source": [
        "#Write a code to find the union of two sets {1, 2, 3} and {3, 4, 5}.\n",
        "s1={1, 2, 3}\n",
        "s2={3, 4, 5}\n",
        "s1|s2"
      ],
      "metadata": {
        "colab": {
          "base_uri": "https://localhost:8080/"
        },
        "id": "M5bv8w5QBxc7",
        "outputId": "5f5b13bc-57c9-4c81-9b26-cbeca2f4fef4"
      },
      "execution_count": null,
      "outputs": [
        {
          "output_type": "execute_result",
          "data": {
            "text/plain": [
              "{1, 2, 3, 4, 5}"
            ]
          },
          "metadata": {},
          "execution_count": 28
        }
      ]
    },
    {
      "cell_type": "code",
      "source": [
        "# Write a code to find the intersection of two sets {1, 2, 3} and {2, 3, 4}.\n",
        "s1={1, 2, 3}\n",
        "s2={2, 3, 4}\n",
        "s1&s2"
      ],
      "metadata": {
        "colab": {
          "base_uri": "https://localhost:8080/"
        },
        "id": "8KqAqYmnCBk7",
        "outputId": "3c193562-e19e-4e93-a842-78554ff26c59"
      },
      "execution_count": null,
      "outputs": [
        {
          "output_type": "execute_result",
          "data": {
            "text/plain": [
              "{2, 3}"
            ]
          },
          "metadata": {},
          "execution_count": 29
        }
      ]
    },
    {
      "cell_type": "code",
      "source": [
        "#Write a code to create a dictionary with the keys \"name\", \"age\", and \"city\", and print it.\n",
        "d={'name':'aniket','age':24,'city':'bhilwara'}\n",
        "d"
      ],
      "metadata": {
        "colab": {
          "base_uri": "https://localhost:8080/"
        },
        "id": "pyPKkW9BC0ZI",
        "outputId": "56f7ca68-18be-4aa6-e84f-3472df9bda3f"
      },
      "execution_count": null,
      "outputs": [
        {
          "output_type": "execute_result",
          "data": {
            "text/plain": [
              "{'name': 'aniket', 'age': 24, 'city': 'bhilwara'}"
            ]
          },
          "metadata": {},
          "execution_count": 31
        }
      ]
    },
    {
      "cell_type": "code",
      "source": [
        "# Write a code to add a new key-value pair  \"country\": \"USA\"  to the dictionary {'name': 'John', 'age': 25}.\n",
        "d={'name': 'John', 'age': 25}\n",
        "d1= {\"country\": \"USA\"}\n",
        "d.update(d1)\n",
        "d"
      ],
      "metadata": {
        "id": "gJdQfc-ODYuI",
        "colab": {
          "base_uri": "https://localhost:8080/"
        },
        "outputId": "16b01842-473a-4abd-e4b6-77132445a667"
      },
      "execution_count": 35,
      "outputs": [
        {
          "output_type": "execute_result",
          "data": {
            "text/plain": [
              "{'name': 'John', 'age': 25, 'country': 'USA'}"
            ]
          },
          "metadata": {},
          "execution_count": 35
        }
      ]
    },
    {
      "cell_type": "code",
      "source": [
        "#Write a code to access the value associated with the key \"name\" in the dictionary {'name': 'Alice', 'age': 30}.\n",
        "d={'name': 'Alice', 'age': 30}\n",
        "d['name']"
      ],
      "metadata": {
        "colab": {
          "base_uri": "https://localhost:8080/",
          "height": 35
        },
        "id": "IGWmiV_0FzY8",
        "outputId": "2904a7d7-8d7b-4884-c167-56b5a2f67500"
      },
      "execution_count": 36,
      "outputs": [
        {
          "output_type": "execute_result",
          "data": {
            "text/plain": [
              "'Alice'"
            ],
            "application/vnd.google.colaboratory.intrinsic+json": {
              "type": "string"
            }
          },
          "metadata": {},
          "execution_count": 36
        }
      ]
    },
    {
      "cell_type": "code",
      "source": [
        "#Write a code to remove the key \"age\" from the dictionary {'name': 'Bob', 'age': 22, 'city': 'New York'}.\n",
        "d={'name': 'Bob', 'age': 22, 'city': 'New York'}\n",
        "d.pop('age')\n",
        "d"
      ],
      "metadata": {
        "colab": {
          "base_uri": "https://localhost:8080/"
        },
        "id": "RZegNpNzGm-p",
        "outputId": "bee0d933-b62f-45b2-f8d7-8c3e2c8fb2eb"
      },
      "execution_count": 42,
      "outputs": [
        {
          "output_type": "execute_result",
          "data": {
            "text/plain": [
              "{'name': 'Bob', 'city': 'New York'}"
            ]
          },
          "metadata": {},
          "execution_count": 42
        }
      ]
    },
    {
      "cell_type": "code",
      "source": [
        " #Write a code to check if the key \"city\" exists in the dictionary {'name': 'Alice', 'city': 'Paris'}.\n",
        "d={'name': 'Alice', 'city': 'Paris'}\n",
        "'city' in d"
      ],
      "metadata": {
        "colab": {
          "base_uri": "https://localhost:8080/"
        },
        "id": "rY9_MbseG06q",
        "outputId": "f00b6d12-2a79-4962-b004-2b60305b3b7b"
      },
      "execution_count": 43,
      "outputs": [
        {
          "output_type": "execute_result",
          "data": {
            "text/plain": [
              "True"
            ]
          },
          "metadata": {},
          "execution_count": 43
        }
      ]
    },
    {
      "cell_type": "code",
      "source": [
        "#Write a code to create a list, a tuple, and a dictionary, and print them all.\n",
        "l=[1,2,3,3,4]\n",
        "t=(1,2,2,3,4)\n",
        "d={'a':1,'b':2,'c':3}\n",
        "print(l ,type(l))\n",
        "print(t,type(t))\n",
        "print(d,type(d))"
      ],
      "metadata": {
        "colab": {
          "base_uri": "https://localhost:8080/"
        },
        "id": "eCX962VxIZDJ",
        "outputId": "b8f46745-90ca-4738-b14a-770cea967074"
      },
      "execution_count": 48,
      "outputs": [
        {
          "output_type": "stream",
          "name": "stdout",
          "text": [
            "[1, 2, 3, 3, 4] <class 'list'>\n",
            "(1, 2, 2, 3, 4) <class 'tuple'>\n",
            "{'a': 1, 'b': 2, 'c': 3} <class 'dict'>\n"
          ]
        }
      ]
    },
    {
      "cell_type": "code",
      "source": [
        "#Write a code to create a list with strings and print the element at the third index.\n",
        "l=['hello', 'hi','hey','how']\n",
        "l[3]"
      ],
      "metadata": {
        "colab": {
          "base_uri": "https://localhost:8080/",
          "height": 35
        },
        "id": "NVVLVtjdJf9f",
        "outputId": "22158333-c3d3-491c-93ca-595294b26ef8"
      },
      "execution_count": 50,
      "outputs": [
        {
          "output_type": "execute_result",
          "data": {
            "text/plain": [
              "'how'"
            ],
            "application/vnd.google.colaboratory.intrinsic+json": {
              "type": "string"
            }
          },
          "metadata": {},
          "execution_count": 50
        }
      ]
    },
    {
      "cell_type": "code",
      "source": [
        "#Write a code to combine two dictionaries into one and print the result\n",
        "d={'name': 'Bob', 'age': 22, 'city': 'New York'}\n",
        "d1={'dob':'01:01:01', 'hey': 'hi'}\n",
        "d1.update(d)\n",
        "print(d)\n",
        "d1\n"
      ],
      "metadata": {
        "colab": {
          "base_uri": "https://localhost:8080/"
        },
        "id": "XfgGKcxmKF5e",
        "outputId": "aa255a0e-d915-4bff-c379-45bfbdf3f0c5"
      },
      "execution_count": 56,
      "outputs": [
        {
          "output_type": "stream",
          "name": "stdout",
          "text": [
            "{'name': 'Bob', 'age': 22, 'city': 'New York'}\n"
          ]
        },
        {
          "output_type": "execute_result",
          "data": {
            "text/plain": [
              "{'dob': '01:01:01', 'hey': 'hi', 'name': 'Bob', 'age': 22, 'city': 'New York'}"
            ]
          },
          "metadata": {},
          "execution_count": 56
        }
      ]
    },
    {
      "cell_type": "code",
      "source": [
        "#Write a code to convert a list of strings into a set.\n",
        "stringlist = [\"apple\", \"banana\", \"cherry\", \"apple\", \"banana\"]\n",
        "stringset = set(stringlist)\n",
        "print(stringset)"
      ],
      "metadata": {
        "colab": {
          "base_uri": "https://localhost:8080/"
        },
        "id": "F6UVzH0kK-gD",
        "outputId": "8759ca47-b124-4a61-fa70-6f20ef92a143"
      },
      "execution_count": 58,
      "outputs": [
        {
          "output_type": "stream",
          "name": "stdout",
          "text": [
            "{'cherry', 'banana', 'apple'}\n"
          ]
        }
      ]
    },
    {
      "cell_type": "code",
      "source": [],
      "metadata": {
        "id": "CRln9rqBLr-6"
      },
      "execution_count": null,
      "outputs": []
    }
  ]
}